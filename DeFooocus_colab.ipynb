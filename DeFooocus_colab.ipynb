{
  "cells": [
    {
      "cell_type": "code",
      "execution_count": null,
      "metadata": {
        "id": "VjYy0F2gZIPR"
      },
      "outputs": [],
      "source": [
        "# Install system dependencies for pygit2 (Ubuntu/Debian)\n",
        "!apt-get update && apt-get install -y libgit2-dev\n",
        "\n",
        "# Install pygit2 (pin to version, prefer prebuilt wheels)\n",
        "!pip install pygit2==1.12.2 --prefer-binary\n",
        "\n",
        "# Change to /content and clone repo\n",
        "%cd /content\n",
        "!git clone https://github.com/dsinghkr/DeFooocus.git\n",
        "\n",
        "# installing torche\n",
        "!pip installl torchsde\n",
        "\n",
        "# Enter repo folder\n",
        "%cd /content/DeFooocus\n",
        "\n",
        "# Install required Python packages\n",
        "!pip install -r requirements_versions.txt --prefer-binary\n",
        "\n",
        "print(\"[DeFooocus] Starting ...\")\n",
        "\n",
        "# ---- Run the app ----\n",
        "# Define args as a Python string\n",
        "args = \"--listen 0.0.0.0 --port 7860\"   # change as needed\n",
        "\n",
        "# Use f-string so {args} is expanded correctly\n",
        "!python entry_with_update.py {args}\n"
      ]
    },
    {
      "cell_type": "code",
      "source": [],
      "metadata": {
        "id": "vCY6QxJgCtU_"
      },
      "execution_count": null,
      "outputs": []
    }
  ],
  "metadata": {
    "accelerator": "GPU",
    "colab": {
      "gpuType": "T4",
      "provenance": []
    },
    "kernelspec": {
      "display_name": "Python 3",
      "name": "python3"
    },
    "language_info": {
      "name": "python"
    }
  },
  "nbformat": 4,
  "nbformat_minor": 0
}